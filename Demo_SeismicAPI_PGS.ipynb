{
 "cells": [
  {
   "cell_type": "markdown",
   "metadata": {},
   "source": [
    "# CDF Seismic API - Demo\n",
    "\n",
    "This notebook is based on the Cognite Seismic Python SDK. The SDK itself is built on the Cognite CDF APIs.\n",
    "\n",
    "\n",
    "\n",
    "### Install Cognite SDK and libraries\n",
    "First we install dependencies and import a number of helpful Python modules, including the Cognite SDK itself:\n"
   ]
  },
  {
   "cell_type": "code",
   "execution_count": null,
   "metadata": {},
   "outputs": [],
   "source": [
    "!pip install cognite-seismic-sdk shapely matplotlib geojson ipyleaflet >pipout && echo Dependencies OK || cat pipout"
   ]
  },
  {
   "cell_type": "code",
   "execution_count": null,
   "metadata": {},
   "outputs": [],
   "source": [
    "%matplotlib inline\n",
    "from cognite.seismic import CogniteSeismicClient\n",
    "import geojson\n",
    "from getpass import getpass\n",
    "from ipyleaflet import Map, Marker, basemaps, basemap_to_tiles\n",
    "import json\n",
    "import matplotlib\n",
    "import matplotlib.pyplot as plt\n",
    "\n",
    "import numpy as np\n",
    "import pandas\n",
    "from shapely import wkt\n",
    "\n",
    "client = CogniteSeismicClient(base_url=\"api.cognitedata.com\", api_key=getpass(\"Enter your Cognite API key: \"))"
   ]
  },
  {
   "cell_type": "markdown",
   "metadata": {},
   "source": [
    "\n",
    "\n",
    "\n",
    "### List available surveys\n",
    "\n",
    "We can list available surveys, and obtain more detailed information about individual surveys."
   ]
  },
  {
   "cell_type": "code",
   "execution_count": null,
   "metadata": {},
   "outputs": [],
   "source": [
    "surveys_response = client.survey.list()\n",
    "print(f\"Retrieved {len(surveys_response.surveys)} surveys.\")\n",
    "print(surveys_response)\n",
    "#print(f\"Last survey: \\n{surveys_response.surveys[-1]}\")"
   ]
  },
  {
   "cell_type": "markdown",
   "metadata": {},
   "source": [
    "\n",
    "### Show a survey's metadata\n",
    "\n",
    "Surveys include some metadata. The set of data currently included in the MVP project is limited but can be expanded."
   ]
  },
  {
   "cell_type": "code",
   "execution_count": null,
   "metadata": {},
   "outputs": [],
   "source": [
    "#Select a survey from the list of surveys \n",
    "survey_name=\"BM-C-4.NSA.11125\"\n",
    "\n",
    "surveydata = client.survey.get(name=survey_name, include_metadata=True)\n",
    "pandas.DataFrame.from_dict(surveydata.survey.metadata, orient='index', columns=[surveydata.survey.name])"
   ]
  },
  {
   "cell_type": "markdown",
   "metadata": {},
   "source": [
    "### Survey search\n",
    "We can also search for surveys with a particular metadata value - in this case we can search for surveys from Brazil:"
   ]
  },
  {
   "cell_type": "code",
   "execution_count": null,
   "metadata": {},
   "outputs": [],
   "source": [
    "surveysearch = client.survey.search(survey_metadata_filter={\"Country\": \"BRAZIL\"}, crs=\"\")\n",
    "pandas.DataFrame.from_dict([s.metadata for s in surveysearch.surveys])"
   ]
  },
  {
   "cell_type": "markdown",
   "metadata": {},
   "source": [
    "### List files in a survey\n",
    "\n",
    "Each survey contains seismic products as files, let's have a look at the selected survey:"
   ]
  },
  {
   "cell_type": "code",
   "execution_count": null,
   "metadata": {
    "jupyter": {
     "source_hidden": true
    }
   },
   "outputs": [],
   "source": [
    "client.survey.get(name=survey_name, list_files=True)"
   ]
  },
  {
   "cell_type": "markdown",
   "metadata": {},
   "source": [
    "### Header printout\n",
    "\n",
    "Easy access to headers (text and binary) from the API"
   ]
  },
  {
   "cell_type": "code",
   "execution_count": null,
   "metadata": {},
   "outputs": [],
   "source": [
    "#Select a file from the list of files \n",
    "file_id='e33563cc-efee-4dda-92bb-d24b86110528'\n",
    "\n",
    "raw = client.file.get_text_header(id=file_id, include_raw_header=True).meta.raw_header\n",
    "for i in range(0, len(raw), 80):\n",
    "    print(str(raw[i:i+80]))\n",
    "    \n",
    "binheader = client.file.get_binary_header(id=file_id)\n",
    "binheader"
   ]
  },
  {
   "cell_type": "markdown",
   "metadata": {},
   "source": [
    "### Seismic slice\n",
    "\n",
    "Seismic slices defined by an inline can be plotted. Defining slice by coordinates will be possible too. "
   ]
  },
  {
   "cell_type": "code",
   "execution_count": null,
   "metadata": {},
   "outputs": [],
   "source": [
    "#Print seimic file's Inline/Crossline range \n",
    "client.file.get_line_range(id=file_id)"
   ]
  },
  {
   "cell_type": "code",
   "execution_count": null,
   "metadata": {},
   "outputs": [],
   "source": [
    "#Select an inline from the range and plot the slice\n",
    "lineslice = client.slice.get_inline(file_id=file_id, inline=8700)\n",
    "itraces = lineslice.to_array()\n",
    "plt.figure(figsize=(20,20))\n",
    "plt.imshow(itraces.transpose(), cmap='seismic', norm=matplotlib.colors.Normalize(vmin=-4000, vmax=4000))"
   ]
  },
  {
   "cell_type": "markdown",
   "metadata": {},
   "source": [
    "### Coverage Polygon\n",
    "We have access to a polygon describing the spatial extent of the seismic data:"
   ]
  },
  {
   "cell_type": "code",
   "execution_count": null,
   "metadata": {},
   "outputs": [],
   "source": [
    "edm50 = \"EPSG:23031\"\n",
    "\n",
    "coverage = client.file.get_file_coverage(id=file_id, in_wkt=True)\n",
    "polygon = wkt.loads(coverage.polygon.wkt.geometry)\n",
    "\n",
    "plt.figure(figsize=(10,8))\n",
    "x, y = polygon.exterior.xy\n",
    "plt.plot(x, y)\n",
    "\n",
    "\n"
   ]
  },
  {
   "cell_type": "code",
   "execution_count": null,
   "metadata": {},
   "outputs": [],
   "source": [
    "#Print coverage polygon coordinatets\n",
    "polygon.wkt"
   ]
  },
  {
   "cell_type": "markdown",
   "metadata": {},
   "source": [
    "### Define and download a cut-out SEG-Y by coordinates\n",
    "\n",
    "Plot coverage polygon once again to define a cut-out within the polygon using coordinates"
   ]
  },
  {
   "cell_type": "code",
   "execution_count": null,
   "metadata": {
    "scrolled": true
   },
   "outputs": [],
   "source": [
    "#Plot the survey coverage polygon\n",
    "coverage = client.file.get_file_coverage(id=file_id, in_wkt=True)\n",
    "polygon = wkt.loads(coverage.polygon.wkt.geometry)\n",
    "plt.figure(figsize=(10,8))\n",
    "x, y = polygon.exterior.xy\n",
    "plt.plot(x, y)\n",
    "\n",
    "# Define Cut-out by coordinates (useful to print coverage polygon coordinates and follow same schema)\n",
    "square = \"POLYGON((-4210000 -3130000, -4210000 -3140000, -4200000 -3140000, -4200000 -3130000, -4210000 -3130000))\"\n",
    "minipoly = wkt.loads(square)\n",
    "x,y = minipoly.exterior.xy\n",
    "plt.plot(x, y)\n"
   ]
  },
  {
   "cell_type": "markdown",
   "metadata": {},
   "source": [
    "Download of cut-out specified above"
   ]
  },
  {
   "cell_type": "code",
   "execution_count": null,
   "metadata": {},
   "outputs": [],
   "source": [
    "with open(\"output1.segy\", \"wb\") as outfile:\n",
    "    for piece in client.file.get_segy_by_geometry(id=file_id, crs=edm50, wkt=square):\n",
    "        outfile.write(bytes(piece.content))\n",
    "\n",
    "! ls -l output1.segy"
   ]
  },
  {
   "cell_type": "markdown",
   "metadata": {},
   "source": [
    "### Define and download a cut-out SEG-Y by Inline/Crossline\n",
    "\n",
    "Small cube download with header print out, based on specific inline and crossline range"
   ]
  },
  {
   "cell_type": "code",
   "execution_count": null,
   "metadata": {},
   "outputs": [],
   "source": [
    "#Print Inline/Xline range\n",
    "client.file.get_line_range(id=file_id)"
   ]
  },
  {
   "cell_type": "code",
   "execution_count": null,
   "metadata": {},
   "outputs": [],
   "source": [
    "with open(\"output2.segy\", \"wb\") as outfile:\n",
    "    for piece in client.file.get_segy_by_lines(id=file_id, top_left_inline=8500, top_left_crossline=10500, bottom_right_inline=8505, bottom_right_crossline=10505):\n",
    "        outfile.write(bytes(piece.content))\n",
    "        \n",
    "! dd if=output2.segy conv=ascii bs=80 count=40 2>/dev/null| sed -e \"s/.\\{80\\}/&\\n/g\" # this is to convert it to ascii, and make it readable"
   ]
  }
 ],
 "metadata": {
  "environment": {
   "name": "common-cpu.m46",
   "type": "gcloud",
   "uri": "gcr.io/deeplearning-platform-release/base-cpu:m46"
  },
  "kernelspec": {
   "display_name": "Python 3",
   "language": "python",
   "name": "python3"
  },
  "language_info": {
   "codemirror_mode": {
    "name": "ipython",
    "version": 3
   },
   "file_extension": ".py",
   "mimetype": "text/x-python",
   "name": "python",
   "nbconvert_exporter": "python",
   "pygments_lexer": "ipython3",
   "version": "3.8.3"
  }
 },
 "nbformat": 4,
 "nbformat_minor": 4
}
